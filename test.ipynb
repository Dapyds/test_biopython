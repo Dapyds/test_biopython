{
 "cells": [
  {
   "cell_type": "markdown",
   "metadata": {},
   "source": [
    "# <p style=\"text-align: center;\"><span style=\"color:maroon\"><u> Biopython / MUSCLE <br> Analyse des séquences humaines françaises de SARS-Cov2 </p></u>"
   ]
  },
  {
   "cell_type": "markdown",
   "metadata": {},
   "source": [
    "## <span style=\"color:orange\"><u>Biopython :</u></span>\n",
    "Biopython est un ensemble d'outils codés en python très utiles pour la bioinformatique. <br>\n",
    "Cette bibliotèque à été développée en 1999 et est parrue en Juillet 2000. Ses développeurs sont Jeff Chang, Andrew Dalke et Brad Chapman (Bien que plus d'une centaine de personne y ont participé) <br>\n",
    "La version la plus récente est la 1.79, parrue le 3 Janvier 2021.\n",
    "\n",
    "### <span style=\"color:teal\"><u>Installation :</u></span>\n",
    "Afin d'installer Biopython dans un environnement conda, il suffit d'utiliser la ligne suivante:"
   ]
  },
  {
   "cell_type": "markdown",
   "metadata": {},
   "source": [
    "> ```bash\n",
    ">conda install -c conda-forge biopython"
   ]
  },
  {
   "cell_type": "markdown",
   "metadata": {},
   "source": [
    "Afin de l'utiliser, appeler biopython avec \"Bio\" <br>\n",
    "\n",
    "> ```python\n",
    "> from Bio import module"
   ]
  },
  {
   "cell_type": "markdown",
   "metadata": {},
   "source": [
    "## <span style=\"color:orange\"><u>MUSCLE :</u></span>\n",
    "MUSCLE est l'acronyme de \"**Mu**ltiple **S**équence **C**omparison by **L**og-**E**xpectations\". C'est un logiciel permettant l'alignement multiple de séquence protéiques et nucléotidiques. <br>\n",
    "Créé en 2004 par Robert C. Edgar, la version actuelle disponible est la v5 parrue en 2021. Néanmoins, cette version n'est pas adaptée à une utilisation avec biopython; en effet, il faudra privilégier la version v3.\n"
   ]
  },
  {
   "cell_type": "markdown",
   "metadata": {},
   "source": [
    "### <span style=\"color:teal\"><u>Installation :</u></span>\n",
    "Afin d'installer muscle dans un environnement conda, il suffit d'utiliser' la ligne suivante:\n",
    "> ```bash\n",
    "> conda install -c \"bioconda/label/cf201901\" muscle"
   ]
  },
  {
   "cell_type": "markdown",
   "metadata": {},
   "source": [
    "## <span style=\"color:orange\"><u>Comment utiliser MUSCLE via Biopython :</u></span> \n",
    "\n",
    "Biopython dispose d'outils pour appeler différents logiciels d'analyses de séquences tel que MUSCLE directement dans python. C'est une fonctionnalité très pratique pour centraliser un projet autour de python.<br> \n",
    "L'appel de ce genre de logiciel se fait via des fonctions du sous-module `Align.Applications` de Biopython. Plus précisément, pour MUSCLE, nous utiliserons la fonction `MuscleCommandline`, s'important de la manière suivante:  <br>\n",
    "\n",
    "> ```python\n",
    "> from Bio.Align.Applications import MuscleCommandline\n",
    "\n",
    "Cette fonction permet d'enregistrer la commande dans une variable, en lui donant en argument le nom de la commande (`muscle` par défaut), et les différents arguments dont MUSCLE a besoin pour fonctionner, ceux de base étant ```-align``` pour spécifier le fichier source (`-input`) et `-output` pour spécifier le nom du fichier en sortie (`-out`). Pour illustrer tout ça, voici un petit exemple :"
   ]
  },
  {
   "cell_type": "markdown",
   "metadata": {},
   "source": [
    "######  _Veuillez cliquer sur <span style=\"color:green\"> &#9655; Run</span> , vous verrez apparaître la commande : `muscle -in unaligned.fasta -out aligned.fasta`. <br> Il s'agit de la commande de base à entrer dans un terminal pour lancer MUSCLE, et réaliser un alignement à partir des séquences ADN du fichier \"unaligned.fasta\" (l'alignement sera stocké dans le fichier \"aligned.fasta\"._"
   ]
  },
  {
   "cell_type": "code",
   "execution_count": 9,
   "metadata": {},
   "outputs": [
    {
     "data": {
      "text/html": [
       "<iframe src=\"https://replit.com/@Dapyds/bioMuscleCommandline?embed=true\" width=\"950\" height=\"450\"></iframe>\n"
      ],
      "text/plain": [
       "<IPython.core.display.HTML object>"
      ]
     },
     "metadata": {},
     "output_type": "display_data"
    }
   ],
   "source": [
    "%%html\n",
    "<iframe src=\"https://replit.com/@Dapyds/bioMuscleCommandline?embed=true\" width=\"950\" height=\"450\"></iframe>"
   ]
  },
  {
   "cell_type": "markdown",
   "metadata": {},
   "source": [
    "Pour comprendre un peu mieux ce qu'il s'est passé, allez dans \"Show files\" puis \"main.py\" :  \n",
    "Nous retrouvons en première ligne le code permettant d'importer la fonction `MuscleCommandline` du module Biopython. Ensuite, nous enregistrons les différents arguments à donner au programme MUSCLE dans des variables (lignes 4 à 6) :  \n",
    "- <span style=\"color:lightcoral\"><u>muscle_exe</u></span> : le nom du programme. Il s'agit généralement de \"muscle\", mais il peut être nécessaire de préciser le chemin d'accès (PATH) de ce dernier.\n",
    "- <span style=\"color:lightcoral\"><u>in_file</u></span> : le nom du fichier d'entrée. Il contient l'ensemble des séquences à aligner. Dans le cas où ce dernier est dans un autre dossier que notre programme, il faudra bien entendu préciser le chemin d'accès.\n",
    "- <span style=\"color:lightcoral\"><u>out_file</u></span> : le nom du fichier de sortie, qui contiendra les séquences alignées par MUSCLE. Là encore, si on souhaite enregistrer ce fichier dans un autre dossier que le programme, il est nécessaire de préciser sa destination.  \n"
   ]
  },
  {
   "cell_type": "markdown",
   "metadata": {},
   "source": [
    "On génère ensuite la commande à l'aide de la fonction `MuscleCommandline` que nous stockons dans la variable \"muscle_cline\" (ligne 9). Cette dernière reçoit 3 arguments :\n",
    "- <span style=\"color:lightcoral\"><u>-cmd</u></span> : qui prend la valeur de \"muscle_exe\" et qui permet de préciser quelle commande de MUSCLE on souhaite exécuter. Notez qu'il n'est ici pas nécessaire de le préciser puisque cet argument prend la valeur \"muscle\" par défaut. Nous l'avons ajouté pour des questions de clareté. C'est toutefois le seul argument dans ce cas.\n",
    "- <span style=\"color:lightcoral\"><u>-input</u></span> : permet de préciser le nom du fichier d'entrée (ici stocké dans la variable \"in_file\").\n",
    "- <span style=\"color:lightcoral\"><u>-out</u></span> : permet de préciser le nom du fichier de sortie (ici stocké dans la variable \"out_file\"). \n",
    "\n",
    "Enfin, avec la fonction `print()`, nous affichons le résultat contenu dans la variable \"muscle_cline\" (ligne 10) : il s'agit de notre commande MUSCLE.  \n",
    "Attention cependant, cette variable ne contient pas qu'une simple chaîne de caractères. En effet, tout ceci n'aurait alors pas grand intérêt. \n",
    "Comme le montre l'affichage du type de notre variable (ligne 11),\n",
    "elle est de type `<class 'Bio.Align.Applications._Muscle.MuscleCommandline'>`.\n",
    "<br>Nous allons voir juste après ce que ça implique.  \n"
   ]
  },
  {
   "cell_type": "markdown",
   "metadata": {},
   "source": [
    "_Nb: MUSCLE accepte un certain nombre d'options que vous pouvez explorer dans la documentation officielle. Ces dernières peuvent être bien entendues prises en compte par Biopython. Par exemple, en ajoutant l'argument `clw=True` à la fonction `MuscleCommandline()`, on ajoute l'option `-clw` à notre commande, qui permet de retourner l'alignement au format clustalW plutôt qu'au format fasta._"
   ]
  },
  {
   "cell_type": "markdown",
   "metadata": {},
   "source": [
    "### <span style=\"color:teal\"><u>Appel de la commande muscle dans python :</span></u> \n",
    "\n",
    "Maintenant que nous avons défini notre commande, nous pouvons nous en servir pour utiliser MUSCLE depuis python. Voyez plutôt :"
   ]
  },
  {
   "cell_type": "markdown",
   "metadata": {},
   "source": [
    "###### _Veuillez cliquer sur <span style=\"color:green\"> &#9655; Run</span>, le reste des observations se fera dans l'onglet \"Show files\"._"
   ]
  },
  {
   "cell_type": "code",
   "execution_count": 10,
   "metadata": {},
   "outputs": [
    {
     "data": {
      "text/html": [
       "<iframe src=\"https://replit.com/@Dapyds/muscleinpython?embed=true\" width=\"950\" height=\"550\"></iframe>\n"
      ],
      "text/plain": [
       "<IPython.core.display.HTML object>"
      ]
     },
     "metadata": {},
     "output_type": "display_data"
    }
   ],
   "source": [
    "%%html\n",
    "<iframe src=\"https://replit.com/@Dapyds/muscleinpython?embed=true\" width=\"950\" height=\"550\"></iframe>"
   ]
  },
  {
   "cell_type": "markdown",
   "metadata": {},
   "source": [
    "Cette fois-ci, si vous lancez le programme, ce dernier vous indique qu'il a effectué l'alignement avec MUSCLE. Très bien, mais que s'est-il passé exactement ?  \n",
    "\n",
    "Pour le savoir, allez dans le fichier \"main.py\". On retrouve les mêmes lignes de code que dans le programme précédent qui permettent de définir notre variable `muscle_cline` (lignes 1 à 8). En dessous, entouré de 2 `print`, on trouve (ligne 13) notre variable; appelée comme une fonction. Et oui ! La variable que nous avons définit peut servir de fonction qui va appeler le programme MUSCLE pour réaliser l'alignement des séquences contenues dans le fichier \"unaligned.fasta\".  \n",
    "Vous pouvez jetez un oeil à ce dernier : il contient différentes séquences du gène pfam00937[<sup>1</sup>](#fn1). \n",
    "Vous pouvez peut être appercevoir quelques différences, mais pour une meilleure analyse il serait utile de les aligner. Et ça tombe bien, c'est exactement ce que notre programme vient de faire !  \n",
    "Allez dans le fichier \"aligned.fasta\". Nous retrouvons les même séquences, mais elles sont cette fois-ci alignées : des \"<span style=\"color:brown\"> &#8213; </span> \" permettent de mettre en évidence les gaps présents entre les séquences. Cela nous permettra par la suite de les comparer grâce à Biopython.\n",
    "\n",
    "###### <sup id=\"fn1\"><span style=\"color:blue\">1 </span></sup> Gène retrouvé chez les betacoronavirus qui code pour la protéine nucleocapside. </span>"
   ]
  },
  {
   "cell_type": "markdown",
   "metadata": {},
   "source": [
    "### <span style=\"color:teal\"><u> Lecture des séquences alignées : </span></u>\n",
    "\n",
    "Maintenant que l'on a nos séquence alignées dans notre fichier \"aligned.fasta\", on peut les lire via Biopython. Le programme ci-dessous donne un exemple sur la façon dont on peut extraire un alignement d'un fichier :"
   ]
  },
  {
   "cell_type": "markdown",
   "metadata": {},
   "source": [
    "###### _Veuillez cliquer sur <span style=\"color:green\"> &#9655; Run</span>.._"
   ]
  },
  {
   "cell_type": "code",
   "execution_count": 11,
   "metadata": {},
   "outputs": [
    {
     "data": {
      "text/html": [
       "<iframe src=\"https://replit.com/@Dapyds/Bioreadalignment?embed=true\" width=\"950\" height=\"350\"></iframe>\n"
      ],
      "text/plain": [
       "<IPython.core.display.HTML object>"
      ]
     },
     "metadata": {},
     "output_type": "display_data"
    }
   ],
   "source": [
    "%%html\n",
    "<iframe src=\"https://replit.com/@Dapyds/Bioreadalignment?embed=true\" width=\"950\" height=\"350\"></iframe>"
   ]
  },
  {
   "cell_type": "markdown",
   "metadata": {},
   "source": [
    "Si vous allez dans \"Show files\", vous retrouverez notre fichier d'alignement \"aligned.fasta\". Dans le fichier \"main.py\", vous verrez que cette fois-ci on importe le sous-module `AlignIO` de Biopython. Ce dernier permet de lire l'alignement avec la fonctaion `read()` (ligne 4), en lui précisant le format du fichier.  \n",
    "Ensuite, avec la fonction `print()`, nous affichons tout simplement un résumé de notre alignement que observable en lançant le programme: il y a 7 séquences alignées. A partir de là, on peut utiliser Biopython pour les analyser: transcription, traduction, pourcentage d'identité..."
   ]
  },
  {
   "cell_type": "markdown",
   "metadata": {},
   "source": [
    "### <span style=\"color:teal\"><u> Récupérer directement l'alignement dans une variable :</span></u>\n",
    "\n",
    "Nous n'en avons cependant pas encore fini avec MUSCLE. Il est en effet possible de stocker la sortie directement dans une variable plutôt que dans un fichier fasta. En effet, si il n'y a pas de précision pour le fichier de sortie (sans utiliser l'option `-out` et donc l'argument `out`), MUSCLE retournera l'alignement directement dans le terminal :"
   ]
  },
  {
   "cell_type": "markdown",
   "metadata": {},
   "source": [
    "###### _Veuillez cliquer sur <span style=\"color:green\"> &#9655; Run</span>.._"
   ]
  },
  {
   "cell_type": "code",
   "execution_count": 12,
   "metadata": {},
   "outputs": [
    {
     "data": {
      "text/html": [
       "<iframe src=\"https://replit.com/@Dapyds/musclenoout?embed=true\" width=\"950\" height=\"750\"></iframe>\n"
      ],
      "text/plain": [
       "<IPython.core.display.HTML object>"
      ]
     },
     "metadata": {},
     "output_type": "display_data"
    }
   ],
   "source": [
    "%%html\n",
    "<iframe src=\"https://replit.com/@Dapyds/musclenoout?embed=true\" width=\"950\" height=\"750\"></iframe>"
   ]
  },
  {
   "cell_type": "markdown",
   "metadata": {},
   "source": [
    "Le programme ci-dessus est un simple script bash qui se contente d'executer la commande `muscle -in unaligned.fasta`. Comme vous pouvez le voir, le fichier de sortie n'est pas précisé (`-out`). Cela a pour conséquence de retourner l'intégralité de l'alignement directement dans le terminal (En premier lieu les informations d'initialisation et d'exécution du programme, puis l'alignement). <br>\n",
    "Pas très pratique vu comme ça, mais lorsque que nous exécutons MUSCLE via python, il est alors possible de récupérer celui-ci directement dans une variable, sans passer par un fichier intermédiaire ! <br>\n",
    "Voyez plutôt :"
   ]
  },
  {
   "cell_type": "markdown",
   "metadata": {},
   "source": [
    "###### _Veuillez cliquer sur <span style=\"color:green\"> &#9655; Run</span>, le reste des observations se fera dans l'onglet \"Show files\"._"
   ]
  },
  {
   "cell_type": "code",
   "execution_count": 13,
   "metadata": {},
   "outputs": [
    {
     "data": {
      "text/html": [
       "<iframe src=\"https://replit.com/@Dapyds/musclestdout?embed=true\" width=\"950\" height=\"550\"></iframe>\n"
      ],
      "text/plain": [
       "<IPython.core.display.HTML object>"
      ]
     },
     "metadata": {},
     "output_type": "display_data"
    }
   ],
   "source": [
    "%%html\n",
    "<iframe src=\"https://replit.com/@Dapyds/musclestdout?embed=true\" width=\"950\" height=\"550\"></iframe>"
   ]
  },
  {
   "cell_type": "markdown",
   "metadata": {},
   "source": [
    "Comme d'habitude, on lance MUSCLE via python. En sortie, cela ressemble grandement à tout ce que nous avions vu précédemment, sauf que notre commande MUSCLE ne renseigne pas l'option `-out` : on retrouve à la fin notre alignement de séquences lu par Biopython.  <br>\n",
    "Si l'on regarde du côté des fichiers, il n'y a cependant pas notre \"aligned.fasta\". Comment avons-nous pu récupérer l'alignement ? Alez voir dans le fichier \"main.py\".  <br>\n",
    "Cette fois, nous ne faisons pas uniquement appel à la \"fonction\" `muscle_cline()` mais nous stockons les éléments qu'elle retourne dans 2 variables : stdout et stderr (ligne 10). <br> \n",
    "En effet, comme il n'y a pas de précision sur le fichier où écrire l'alignement, elle retourne sous forme de tuple de 2 éléments l'alignement (stdout) et les potentiels messages annexes (stderr), chacun étant une chaîne de charactères. Notez que c'est aussi le cas lorsque nous précison un fichier de sortie (stdout est alors une chaîne de charactères vide).  <br>\n",
    "\n",
    "Ensuite, afin de récupérer l'alignement avec Biopython (lignes 13 à 17), on utilise le module `io` qui, avec sa fonction `StringIO`, permet de stransformer une chaîne de charactères en un objet de type `<class '_io.StringIO'>`, compréhensible par `AlignIO.read()` comme s'il s'agissait d'un objet de type `<class '_io.TextIOWrapper'>` que l'on obtient avec la fonction `open()`. <br>\n",
    "Pour le reste, il est possible d'utiliser Biopython comme si nous avions récupéré l'alignement depuis un fichier.  <br>\n",
    "\n",
    "Cette méthode est assez pratique et permet d'éviter de s'encombrer de fichiers, mais notez que si vous avez beaucoup de séquences de grande taille à aligner, elle peut très vite saturer la mémoire de votre ordinateur...  \n",
    "\n",
    "_Nb: qu'il est également possible avec une approche similaire de donner directement à MUSCLE en input des séquences stockées dans une variable, mais cela complexifie beaucoup le code et risque d'autant plus de saturer la mémoire !_"
   ]
  },
  {
   "cell_type": "markdown",
   "metadata": {},
   "source": [
    "## <span style=\"color:orange\"><u> Conclusion : </span> </u>\n",
    "\n",
    "Comme on a pu le voir, Biopython offre de nombreuses possibilités pour manipuler des séquences à l'aide de programmes tierces (MUSCLE n'est qu'un exemple, il en existe bien d'autres). <br>\n",
    "C'est une fonctionnalité très utile pour centraliser vos analyses.  "
   ]
  },
  {
   "cell_type": "markdown",
   "metadata": {},
   "source": [
    "#### <p style=\"text-align: center;\"> <span style=\"color:lightseagreen\">Nous espérons que ce guide vous aura été utile. Bonne continuation ! </p>"
   ]
  }
 ],
 "metadata": {
  "kernelspec": {
   "display_name": "Python 3.9.13 (conda)",
   "language": "python",
   "name": "python3"
  },
  "language_info": {
   "codemirror_mode": {
    "name": "ipython",
    "version": 3
   },
   "file_extension": ".py",
   "mimetype": "text/x-python",
   "name": "python",
   "nbconvert_exporter": "python",
   "pygments_lexer": "ipython3",
   "version": "3.9.13"
  },
  "orig_nbformat": 4,
  "vscode": {
   "interpreter": {
    "hash": "e936dca9be2cbf007bf61f3f6e446e449d60ee917b9709092d73ca2d05c46c86"
   }
  }
 },
 "nbformat": 4,
 "nbformat_minor": 2
}